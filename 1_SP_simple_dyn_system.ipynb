{
 "cells": [
  {
   "cell_type": "markdown",
   "id": "bc110a77-b146-448b-b627-1cc204bf00ab",
   "metadata": {},
   "source": [
    "# 1D Dynamical systems\n",
    "Here we explore a bi-stable dynamical system finindg the fixed points and classifying them. A simple autonamus 1D dynamical system is defined by and evolution function $\\dot x = f(x)$, where $f(x): \\mathbb{R} \\to \\mathbb{R}$ and an inial condtion $x(t=0) = x_0$.\n",
    "Here we analyze the system numerically. "
   ]
  },
  {
   "cell_type": "code",
   "execution_count": 2,
   "id": "40f367d2-dea7-4d09-8335-823e505bb5c3",
   "metadata": {},
   "outputs": [],
   "source": [
    "#dependancies\n",
    "import numpy as np \n",
    "import matplotlib.pyplot as plt\n",
    "import sympy as sp\n",
    "\n",
    "# enables LaTeX output in Jupyter\n",
    "from IPython.display import display\n",
    "from sympy import init_printing\n",
    "init_printing() "
   ]
  },
  {
   "cell_type": "markdown",
   "id": "e6035e12-d1ff-425f-a550-ff525ec30ba7",
   "metadata": {},
   "source": [
    "## Analysis of a potential\n",
    "We will focus on a potential forcing, such that $f = -\\frac{dV}{dx}$"
   ]
  },
  {
   "cell_type": "code",
   "execution_count": 3,
   "id": "705c3fbe-e7c6-4e99-bf8e-76e595eb4b86",
   "metadata": {},
   "outputs": [
    {
     "name": "stdout",
     "output_type": "stream",
     "text": [
      "Potential V(x):\n"
     ]
    },
    {
     "data": {
      "image/png": "[encoded data removed]",
      "text/latex": [
       "$\\displaystyle V(x) = a^{2} \\left(x^{2} - 1\\right)^{2} + \\epsilon x$"
      ],
      "text/plain": [
       "                  2      \n",
       "        2 ⎛ 2    ⎞       \n",
       "V(x) = a ⋅⎝x  - 1⎠  + ε⋅x"
      ]
     },
     "metadata": {},
     "output_type": "display_data"
    },
    {
     "name": "stdout",
     "output_type": "stream",
     "text": [
      "Derivative dV/dx:\n"
     ]
    },
    {
     "data": {
      "image/png": "[encoded data removed]",
      "text/latex": [
       "$\\displaystyle f(x) = - dV/dx = - 4 a^{2} x \\left(x^{2} - 1\\right) - \\epsilon$"
      ],
      "text/plain": [
       "                      2   ⎛ 2    ⎞    \n",
       "f(x) = - dV/dx = - 4⋅a ⋅x⋅⎝x  - 1⎠ - ε"
      ]
     },
     "metadata": {},
     "output_type": "display_data"
    }
   ],
   "source": [
    "# Symbols\n",
    "x, a, eps = sp.symbols('x a epsilon', real=True)\n",
    "\n",
    "# Potential \n",
    "V = (a**2)*(x**2 - 1)**2 + eps*x; #Definition \n",
    "dVdx = sp.diff(V, x)       #Symbolic derivative\n",
    "\n",
    "# Print the potential and derivative\n",
    "print(\"Potential V(x):\")\n",
    "display(sp.Eq(sp.Symbol('V(x)'), V))\n",
    "\n",
    "print(\"Derivative dV/dx:\")\n",
    "display(sp.Eq(sp.Symbol('f(x) = - dV/dx'), -dVdx))"
   ]
  },
  {
   "cell_type": "markdown",
   "id": "005fe5bf-e433-412c-a500-dd95e7dceb61",
   "metadata": {},
   "source": [
    "## Fixed points and stability"
   ]
  },
  {
   "cell_type": "code",
   "execution_count": 4,
   "id": "d10b9637-87b7-4dfc-83c1-b7139520de96",
   "metadata": {},
   "outputs": [
    {
     "name": "stdout",
     "output_type": "stream",
     "text": [
      "Fixed points:\n",
      "1) -1.02  - Stable\n",
      "2)  0.05  - Unstable\n",
      "3)  0.97  - Stable\n"
     ]
    },
    {
     "data": {
      "text/plain": [
       "Text(0, 0.5, '$V(x)$')"
      ]
     },
     "execution_count": 4,
     "metadata": {},
     "output_type": "execute_result"
    },
    {
     "data": {
      "image/png": "[encoded data removed]",
      "text/plain": [
       "<Figure size 300x300 with 1 Axes>"
      ]
     },
     "metadata": {},
     "output_type": "display_data"
    }
   ],
   "source": [
    "#definve values\n",
    "params = {a: 1.0, eps: 0.2}\n",
    "tol = 1e-10;\n",
    "\n",
    "#substitute in expresion\n",
    "f_parm    = -dVdx.subs(params) \n",
    "dfdx_num = sp.lambdify(x, sp.diff(f_parm, x), \"numpy\") #numberical version for evaluation \n",
    "\n",
    "#find fixed points as the real roots of f\n",
    "roots_num = sp.nroots(f_parm)  #complex roots numerically\n",
    "fixed_points = [r.evalf() for r in roots_num if abs(sp.im(r)) < tol]\n",
    "fp_stability = np.zeros_like(fixed_points);\n",
    "\n",
    "print('Fixed points:')\n",
    "for i,r in enumerate(fixed_points):\n",
    "    if dfdx_num(r) < - tol: \n",
    "        fp_type = 'Stable'\n",
    "        fp_stability[i] = 1\n",
    "    elif dfdx_num(r) > tol: \n",
    "        fp_type = 'Unstable'\n",
    "        fp_stability[i] = -1\n",
    "    else:\n",
    "        fp_type = 'Degenerate'\n",
    "        fp_stability[i] = 0\n",
    "    \n",
    "    print(f'{i+1}) {r:5.2f}  - {fp_type}')\n",
    "\n",
    "\n",
    "# Plot potential and force, marking fixed points\n",
    "V_num = sp.lambdify(x, V.subs(params), \"numpy\") \n",
    "X = np.linspace(-1.5, 1.5, 100)\n",
    "    \n",
    "plt.figure(figsize=(3,3), dpi = 100)\n",
    "plt.plot(X,V_num(X))\n",
    "\n",
    "for i,fp in enumerate(fixed_points):\n",
    "    col = 'blue' if fp_stability[i] == 1 else 'red' if fp_stability[i] == -1 else 'black'\n",
    "    plt.scatter(fp, V_num(fp), zorder = 3, color = col, marker = 'o')\n",
    "plt.title(f'V(x):{params}')\n",
    "plt.xlabel('$x$')\n",
    "plt.ylabel('$V(x)$')\n"
   ]
  },
  {
   "cell_type": "code",
   "execution_count": null,
   "id": "62e8ef16-c14e-4f33-a094-d3518a12250b",
   "metadata": {},
   "outputs": [],
   "source": []
  }
 ],
 "metadata": {
  "kernelspec": {
   "display_name": "Python 3 (ipykernel)",
   "language": "python",
   "name": "python3"
  },
  "language_info": {
   "codemirror_mode": {
    "name": "ipython",
    "version": 3
   },
   "file_extension": ".py",
   "mimetype": "text/x-python",
   "name": "python",
   "nbconvert_exporter": "python",
   "pygments_lexer": "ipython3",
   "version": "3.13.2"
  }
 },
 "nbformat": 4,
 "nbformat_minor": 5
}
