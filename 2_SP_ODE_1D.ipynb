{
 "cells": [
  {
   "cell_type": "markdown",
   "id": "4b1fd6c8-15f2-4d50-b025-95755e7be81c",
   "metadata": {},
   "source": [
    "# Numerical simulation of ODE\n",
    "Here we simulate integrate an ODE numerically to study the dynamics. "
   ]
  },
  {
   "cell_type": "code",
   "execution_count": 1,
   "id": "82925d0a-4534-4f81-a70a-0897733c6ac0",
   "metadata": {},
   "outputs": [],
   "source": [
    "import numpy as np \n",
    "import matplotlib.pyplot as plt\n",
    "import sympy as sp\n",
    "import time\n",
    "\n",
    "#time steppers\n",
    "def Stepper_Euler_ODE(x,func,dt):\n",
    "    \"\"\"Explicit Euler\"\"\"\n",
    "    return x + dt*func(x)\n",
    "    \n",
    "def Stepper_RK4_ODE(x,func,dt):\n",
    "    \"\"\"Classic Runge–Kutta 4th order.\"\"\"\n",
    "    k1 = func(x)             # f(t, x)\n",
    "    k2 = func(x + 0.5*dt*k1) #f(t + 0.5*dt, x + 0.5*dt*k1)\n",
    "    k3 = func(x + 0.5*dt*k2) #f(t + 0.5*dt, x + 0.5*dt*k2)\n",
    "    k4 = func(x + dt*k3)     #f(t + dt,     x + dt*k3)\n",
    "    return x + (dt/6.0)*(k1 + 2*k2 + 2*k3 + k4)"
   ]
  },
  {
   "cell_type": "code",
   "execution_count": 2,
   "id": "368a28a8-cc50-4de6-8fa9-2e8bade8a25f",
   "metadata": {},
   "outputs": [
    {
     "name": "stdout",
     "output_type": "stream",
     "text": [
      "Simulation started, parameters = {'a': 1, 'eps': 0.2}\n",
      "Simulation done. Wall_Time = 0.01[sec]\n"
     ]
    }
   ],
   "source": [
    "# Simulation\n",
    "# Parameters\n",
    "a_val   =  1   \n",
    "eps_val = 0.2  \n",
    "x0     = -0.1  #inital conditions\n",
    "params = {'a': a_val, 'eps': eps_val}\n",
    "\n",
    "#simulation parameters\n",
    "dt = 0.001       # time step\n",
    "T = 10          # total time\n",
    "N = int(T/dt)   # number of steps\n",
    "\n",
    "#Defeniton of the evolution function\n",
    "f = lambda x: -4*(a_val**2)*x*(x**2 - 1) - eps_val;\n",
    "\n",
    "\n",
    "# Arrays to store results\n",
    "t_vals = np.linspace(0, T, N)\n",
    "x_vals = np.zeros(N)\n",
    "x_vals[0] = x0\n",
    "\n",
    "print(f'Simulation started, parameters = {params}')\n",
    "wall_time_start = time.time()\n",
    "\n",
    "#forward integration of dx/dt = f(x)\n",
    "for i in range(N-1):\n",
    "    x_vals[i+1] = Stepper_Euler_ODE(x_vals[i],f,dt) #Euler time-stepper\n",
    "    #x_vals[i+1] = Stepper_RK4_ODE(x_vals[i],f,dt) #RK4 time-stepper \n",
    "\n",
    "wall_time = time.time() - wall_time_start\n",
    "print(f'Simulation done. Wall_Time = {wall_time:.2f}[sec]')  \n"
   ]
  },
  {
   "cell_type": "code",
   "execution_count": 3,
   "id": "99c3e4a2-0f93-4103-a90f-f505ff215c98",
   "metadata": {},
   "outputs": [
    {
     "data": {
      "text/plain": [
       "Text(0, 0.5, '$t$')"
      ]
     },
     "execution_count": 3,
     "metadata": {},
     "output_type": "execute_result"
    },
    {
     "data": {
      "image/png": "[encoded data removed]",
      "text/plain": [
       "<Figure size 300x300 with 1 Axes>"
      ]
     },
     "metadata": {},
     "output_type": "display_data"
    }
   ],
   "source": [
    "#Plot results\n",
    "plt.figure(figsize=(3,3), dpi = 100)\n",
    "plt.plot(t_vals,x_vals)\n",
    "plt.title(f'x(t):{params}')\n",
    "plt.ylabel('$x(t)$')\n",
    "plt.xlabel('$t$')"
   ]
  }
 ],
 "metadata": {
  "kernelspec": {
   "display_name": "Python 3 (ipykernel)",
   "language": "python",
   "name": "python3"
  },
  "language_info": {
   "codemirror_mode": {
    "name": "ipython",
    "version": 3
   },
   "file_extension": ".py",
   "mimetype": "text/x-python",
   "name": "python",
   "nbconvert_exporter": "python",
   "pygments_lexer": "ipython3",
   "version": "3.13.2"
  }
 },
 "nbformat": 4,
 "nbformat_minor": 5
}
